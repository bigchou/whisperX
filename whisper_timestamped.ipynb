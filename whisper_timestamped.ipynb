{
 "cells": [
  {
   "cell_type": "code",
   "execution_count": 1,
   "id": "5c7062c8-203e-4a11-bf11-3a440b9247aa",
   "metadata": {},
   "outputs": [],
   "source": [
    "model_size = \"large-v3\"\n",
    "\n",
    "audio_path = \"part_1.wav\""
   ]
  },
  {
   "cell_type": "code",
   "execution_count": 1,
   "id": "360a6cd6-fb79-4485-880b-5130d81ae24c",
   "metadata": {},
   "outputs": [
    {
     "name": "stdout",
     "output_type": "stream",
     "text": [
      "Importing the dtw module. When using in academic works please cite:\n",
      "  T. Giorgino. Computing and Visualizing Dynamic Time Warping Alignments in R: The dtw Package.\n",
      "  J. Stat. Soft., doi:10.18637/jss.v031.i07.\n",
      "\n",
      "Detected language: Chinese\n"
     ]
    },
    {
     "name": "stderr",
     "output_type": "stream",
     "text": [
      "100%|████████████████████████████████| 57315/57315 [01:56<00:00, 492.94frames/s]\n"
     ]
    }
   ],
   "source": [
    "import whisper_timestamped\n",
    "\n",
    "\n",
    "\n",
    "audio = whisper_timestamped.load_audio(audio_path)\n",
    "\n",
    "model = whisper_timestamped.load_model(model_size, device=\"cuda\")\n",
    "\n",
    "whisper_timestamped_results = whisper_timestamped.transcribe(model, audio, beam_size=5, best_of=5, temperature=(0.0, 0.2, 0.4, 0.6, 0.8, 1.0), vad=\"silero\", detect_disfluencies=True)"
   ]
  },
  {
   "cell_type": "code",
   "execution_count": 5,
   "id": "5eb6abc4-cc7a-4814-a084-7d09f80f64a9",
   "metadata": {},
   "outputs": [
    {
     "data": {
      "text/plain": [
       "dict_keys(['text', 'segments', 'language', 'language_probs', 'speech_activity'])"
      ]
     },
     "execution_count": 5,
     "metadata": {},
     "output_type": "execute_result"
    }
   ],
   "source": [
    "whisper_timestamped_results.keys()"
   ]
  },
  {
   "cell_type": "code",
   "execution_count": 7,
   "id": "e7d94e8c-04da-4709-9271-d4ecb24c02b5",
   "metadata": {},
   "outputs": [
    {
     "data": {
      "text/plain": [
       "'zh'"
      ]
     },
     "execution_count": 7,
     "metadata": {},
     "output_type": "execute_result"
    }
   ],
   "source": [
    "whisper_timestamped_results['language']"
   ]
  },
  {
   "cell_type": "code",
   "execution_count": 8,
   "id": "1702adcf-3127-469a-b76b-68694fdc2b70",
   "metadata": {},
   "outputs": [
    {
     "data": {
      "text/plain": [
       "[{'start': 2.894, 'end': 71.218},\n",
       " {'start': 71.63, 'end': 85.682},\n",
       " {'start': 86.734, 'end': 178.706},\n",
       " {'start': 178.926, 'end': 189.65},\n",
       " {'start': 189.774, 'end': 206.034},\n",
       " {'start': 206.382, 'end': 219.282},\n",
       " {'start': 220.014, 'end': 243.698},\n",
       " {'start': 244.974, 'end': 265.426},\n",
       " {'start': 265.582, 'end': 289.394},\n",
       " {'start': 290.286, 'end': 353.874},\n",
       " {'start': 356.75, 'end': 364.306},\n",
       " {'start': 365.358, 'end': 380.274},\n",
       " {'start': 380.558, 'end': 388.114},\n",
       " {'start': 389.806, 'end': 409.81},\n",
       " {'start': 410.254, 'end': 413.042},\n",
       " {'start': 413.07, 'end': 433.81},\n",
       " {'start': 434.158, 'end': 443.922},\n",
       " {'start': 444.078, 'end': 474.482},\n",
       " {'start': 474.638, 'end': 588.3}]"
      ]
     },
     "execution_count": 8,
     "metadata": {},
     "output_type": "execute_result"
    }
   ],
   "source": [
    "whisper_timestamped_results['speech_activity']"
   ]
  },
  {
   "cell_type": "code",
   "execution_count": 9,
   "id": "3edfe333-d0d8-4604-b95d-ef01e6c4c4d9",
   "metadata": {},
   "outputs": [
    {
     "data": {
      "text/plain": [
       "19"
      ]
     },
     "execution_count": 9,
     "metadata": {},
     "output_type": "execute_result"
    }
   ],
   "source": [
    "len(whisper_timestamped_results['speech_activity'])"
   ]
  },
  {
   "cell_type": "code",
   "execution_count": 11,
   "id": "d5252df6-91ad-469c-9bfe-7dc12919a638",
   "metadata": {},
   "outputs": [
    {
     "data": {
      "text/plain": [
       "209"
      ]
     },
     "execution_count": 11,
     "metadata": {},
     "output_type": "execute_result"
    }
   ],
   "source": [
    "len(whisper_timestamped_results['segments'])"
   ]
  },
  {
   "cell_type": "code",
   "execution_count": 12,
   "id": "067c5785-767d-47f2-ae47-0b76159332d9",
   "metadata": {},
   "outputs": [
    {
     "data": {
      "text/plain": [
       "3354"
      ]
     },
     "execution_count": 12,
     "metadata": {},
     "output_type": "execute_result"
    }
   ],
   "source": [
    "len(whisper_timestamped_results['text'])"
   ]
  },
  {
   "cell_type": "code",
   "execution_count": 16,
   "id": "8748f8dd-f65d-43fc-834a-cf60b3ce7c5d",
   "metadata": {},
   "outputs": [
    {
     "data": {
      "text/plain": [
       "{'id': 1,\n",
       " 'seek': 0,\n",
       " 'start': np.float64(10.07),\n",
       " 'end': np.float64(15.63),\n",
       " 'text': '因为当时我们在submit这个Qflow的pre-label的test的时候',\n",
       " 'tokens': [50729,\n",
       "  34627,\n",
       "  16233,\n",
       "  15729,\n",
       "  15003,\n",
       "  3581,\n",
       "  30131,\n",
       "  3508,\n",
       "  15368,\n",
       "  48,\n",
       "  10565,\n",
       "  1546,\n",
       "  3712,\n",
       "  12,\n",
       "  75,\n",
       "  18657,\n",
       "  1546,\n",
       "  31636,\n",
       "  49873,\n",
       "  51017],\n",
       " 'temperature': 0.0,\n",
       " 'avg_logprob': -0.22340872681256638,\n",
       " 'compression_ratio': 1.3155737704918034,\n",
       " 'no_speech_prob': 0.671076774597168,\n",
       " 'confidence': 0.467,\n",
       " 'words': [{'text': '因为',\n",
       "   'start': np.float64(10.07),\n",
       "   'end': np.float64(10.37),\n",
       "   'confidence': 0.186},\n",
       "  {'text': '当',\n",
       "   'start': np.float64(10.37),\n",
       "   'end': np.float64(10.75),\n",
       "   'confidence': 0.96},\n",
       "  {'text': '时',\n",
       "   'start': np.float64(10.75),\n",
       "   'end': np.float64(11.11),\n",
       "   'confidence': 0.989},\n",
       "  {'text': '我们',\n",
       "   'start': np.float64(11.11),\n",
       "   'end': np.float64(11.33),\n",
       "   'confidence': 0.979},\n",
       "  {'text': '[*]',\n",
       "   'start': np.float64(11.33),\n",
       "   'end': np.float64(11.75),\n",
       "   'confidence': 0},\n",
       "  {'text': '在',\n",
       "   'start': np.float64(11.75),\n",
       "   'end': np.float64(12.09),\n",
       "   'confidence': 0.893},\n",
       "  {'text': 'sub',\n",
       "   'start': np.float64(12.09),\n",
       "   'end': np.float64(12.43),\n",
       "   'confidence': 0.427},\n",
       "  {'text': 'mit',\n",
       "   'start': np.float64(12.43),\n",
       "   'end': np.float64(12.67),\n",
       "   'confidence': 0.974},\n",
       "  {'text': '这个',\n",
       "   'start': np.float64(12.67),\n",
       "   'end': np.float64(12.79),\n",
       "   'confidence': 0.037},\n",
       "  {'text': 'Q',\n",
       "   'start': np.float64(12.79),\n",
       "   'end': np.float64(13.27),\n",
       "   'confidence': 0.175},\n",
       "  {'text': 'flow',\n",
       "   'start': np.float64(13.27),\n",
       "   'end': np.float64(13.51),\n",
       "   'confidence': 0.415},\n",
       "  {'text': '的',\n",
       "   'start': np.float64(13.51),\n",
       "   'end': np.float64(13.65),\n",
       "   'confidence': 0.553},\n",
       "  {'text': '[*]',\n",
       "   'start': np.float64(13.65),\n",
       "   'end': np.float64(14.27),\n",
       "   'confidence': 0},\n",
       "  {'text': 'pre',\n",
       "   'start': np.float64(14.27),\n",
       "   'end': np.float64(14.53),\n",
       "   'confidence': 0.098},\n",
       "  {'text': '-',\n",
       "   'start': np.float64(14.53),\n",
       "   'end': np.float64(14.63),\n",
       "   'confidence': 0.531},\n",
       "  {'text': 'l',\n",
       "   'start': np.float64(14.63),\n",
       "   'end': np.float64(14.71),\n",
       "   'confidence': 0.884},\n",
       "  {'text': 'abel',\n",
       "   'start': np.float64(14.71),\n",
       "   'end': np.float64(14.89),\n",
       "   'confidence': 0.997},\n",
       "  {'text': '的',\n",
       "   'start': np.float64(14.89),\n",
       "   'end': np.float64(15.03),\n",
       "   'confidence': 0.284},\n",
       "  {'text': 'test',\n",
       "   'start': np.float64(15.03),\n",
       "   'end': np.float64(15.31),\n",
       "   'confidence': 0.913},\n",
       "  {'text': '的时候',\n",
       "   'start': np.float64(15.31),\n",
       "   'end': np.float64(15.63),\n",
       "   'confidence': 0.97}]}"
      ]
     },
     "execution_count": 16,
     "metadata": {},
     "output_type": "execute_result"
    }
   ],
   "source": [
    "whisper_timestamped_results['segments'][1]"
   ]
  },
  {
   "cell_type": "code",
   "execution_count": 17,
   "id": "636d5798-d693-4100-a5d0-7a1132583aea",
   "metadata": {
    "scrolled": true
   },
   "outputs": [
    {
     "data": {
      "text/plain": [
       "[{'text': '因为',\n",
       "  'start': np.float64(10.07),\n",
       "  'end': np.float64(10.37),\n",
       "  'confidence': 0.186},\n",
       " {'text': '当',\n",
       "  'start': np.float64(10.37),\n",
       "  'end': np.float64(10.75),\n",
       "  'confidence': 0.96},\n",
       " {'text': '时',\n",
       "  'start': np.float64(10.75),\n",
       "  'end': np.float64(11.11),\n",
       "  'confidence': 0.989},\n",
       " {'text': '我们',\n",
       "  'start': np.float64(11.11),\n",
       "  'end': np.float64(11.33),\n",
       "  'confidence': 0.979},\n",
       " {'text': '[*]',\n",
       "  'start': np.float64(11.33),\n",
       "  'end': np.float64(11.75),\n",
       "  'confidence': 0},\n",
       " {'text': '在',\n",
       "  'start': np.float64(11.75),\n",
       "  'end': np.float64(12.09),\n",
       "  'confidence': 0.893},\n",
       " {'text': 'sub',\n",
       "  'start': np.float64(12.09),\n",
       "  'end': np.float64(12.43),\n",
       "  'confidence': 0.427},\n",
       " {'text': 'mit',\n",
       "  'start': np.float64(12.43),\n",
       "  'end': np.float64(12.67),\n",
       "  'confidence': 0.974},\n",
       " {'text': '这个',\n",
       "  'start': np.float64(12.67),\n",
       "  'end': np.float64(12.79),\n",
       "  'confidence': 0.037},\n",
       " {'text': 'Q',\n",
       "  'start': np.float64(12.79),\n",
       "  'end': np.float64(13.27),\n",
       "  'confidence': 0.175},\n",
       " {'text': 'flow',\n",
       "  'start': np.float64(13.27),\n",
       "  'end': np.float64(13.51),\n",
       "  'confidence': 0.415},\n",
       " {'text': '的',\n",
       "  'start': np.float64(13.51),\n",
       "  'end': np.float64(13.65),\n",
       "  'confidence': 0.553},\n",
       " {'text': '[*]',\n",
       "  'start': np.float64(13.65),\n",
       "  'end': np.float64(14.27),\n",
       "  'confidence': 0},\n",
       " {'text': 'pre',\n",
       "  'start': np.float64(14.27),\n",
       "  'end': np.float64(14.53),\n",
       "  'confidence': 0.098},\n",
       " {'text': '-',\n",
       "  'start': np.float64(14.53),\n",
       "  'end': np.float64(14.63),\n",
       "  'confidence': 0.531},\n",
       " {'text': 'l',\n",
       "  'start': np.float64(14.63),\n",
       "  'end': np.float64(14.71),\n",
       "  'confidence': 0.884},\n",
       " {'text': 'abel',\n",
       "  'start': np.float64(14.71),\n",
       "  'end': np.float64(14.89),\n",
       "  'confidence': 0.997},\n",
       " {'text': '的',\n",
       "  'start': np.float64(14.89),\n",
       "  'end': np.float64(15.03),\n",
       "  'confidence': 0.284},\n",
       " {'text': 'test',\n",
       "  'start': np.float64(15.03),\n",
       "  'end': np.float64(15.31),\n",
       "  'confidence': 0.913},\n",
       " {'text': '的时候',\n",
       "  'start': np.float64(15.31),\n",
       "  'end': np.float64(15.63),\n",
       "  'confidence': 0.97}]"
      ]
     },
     "execution_count": 17,
     "metadata": {},
     "output_type": "execute_result"
    }
   ],
   "source": [
    "whisper_timestamped_results['segments'][1]['words']"
   ]
  },
  {
   "cell_type": "code",
   "execution_count": 18,
   "id": "cf29df2e-e6a8-4ab1-8d99-34c936770752",
   "metadata": {},
   "outputs": [],
   "source": [
    "word_segments = []\n",
    "segments = []\n",
    "for whisper_segment in whisper_timestamped_results['segments']:\n",
    "    word_segment = []\n",
    "    for word in whisper_segment['words']:\n",
    "        word_segment.append({\n",
    "            'word': word['text'],\n",
    "            'start': round(word['start'], 3),\n",
    "            'end': round(word['end'], 3),\n",
    "            'score': round(word['confidence'],3)\n",
    "        })\n",
    "    segments.append({\n",
    "        'start': whisper_segment['start'],\n",
    "        'end': whisper_segment['end'],\n",
    "        'text': whisper_segment['text'],\n",
    "        'words': word_segment\n",
    "    })\n",
    "    word_segments.extend(word_segment)"
   ]
  },
  {
   "cell_type": "code",
   "execution_count": 2,
   "id": "aeefa70f-0046-4b9c-aa36-4db7dcd3bf15",
   "metadata": {},
   "outputs": [],
   "source": [
    "#import json\n",
    "#with open(\"word_segments.json\", \"w\") as f: json.dump(word_segments, f)\n",
    "#with open(\"segments.json\", \"w\") as f: json.dump(segments, f)\n",
    "\n",
    "#with open(\"word_segments.json\") as f: word_segments = json.load(f)\n",
    "#with open(\"segments.json\") as f: segments = json.load(f)"
   ]
  },
  {
   "cell_type": "code",
   "execution_count": 3,
   "id": "513fa348-8605-4bd8-90e0-c349dd1b76cd",
   "metadata": {},
   "outputs": [],
   "source": [
    "results = [[{\n",
    "    'segments': segments,\n",
    "    'word_segments': word_segments\n",
    "}, audio_path]]"
   ]
  },
  {
   "cell_type": "code",
   "execution_count": 4,
   "id": "1dd89646-a35f-4afa-8612-f611531cfedb",
   "metadata": {},
   "outputs": [],
   "source": [
    "hf_token = 'hf_FAIPqXrVDLo...' # replace your HF token here"
   ]
  },
  {
   "cell_type": "code",
   "execution_count": 7,
   "id": "691cdf38-96c5-45a0-a63a-cc6782882bc8",
   "metadata": {},
   "outputs": [],
   "source": [
    "from whisperx.diarize import DiarizationPipeline, assign_word_speakers"
   ]
  },
  {
   "cell_type": "code",
   "execution_count": 8,
   "id": "63236caf-aeb4-4f92-8f3f-13d3a3ebe84f",
   "metadata": {},
   "outputs": [
    {
     "name": "stdout",
     "output_type": "stream",
     "text": [
      ">>Performing diarization...\n"
     ]
    }
   ],
   "source": [
    "# >> Diarize\n",
    "device = 'cuda'\n",
    "min_speakers = None\n",
    "max_speakers = None\n",
    "\n",
    "tmp_results = results\n",
    "print(\">>Performing diarization...\")\n",
    "results = []\n",
    "diarize_model = DiarizationPipeline(use_auth_token=hf_token, device=device)\n",
    "for result, input_audio_path in tmp_results:\n",
    "    diarize_segments = diarize_model(input_audio_path, min_speakers=min_speakers, max_speakers=max_speakers)\n",
    "    #import pdb; pdb.set_trace()\n",
    "    # assign_word_speakers 函數的主要目的是將說話者標識（speaker labels）分配給轉錄文本中的段落和單詞。\n",
    "    # 該函數通過將轉錄結果與分段的說話者識別結果（diarization segments）對齊，來確定每個段落和單詞所對應的說話者。\n",
    "    result = assign_word_speakers(diarize_segments, result) # 基於時間重疊信息，將說話者標識分配給每個段落和單詞。\n",
    "    \n",
    "    results.append((result, input_audio_path))"
   ]
  },
  {
   "cell_type": "code",
   "execution_count": 9,
   "id": "b86eeefa-8a14-4a07-8c30-479e99dc7612",
   "metadata": {},
   "outputs": [],
   "source": [
    "from whisperx.utils import get_writer\n",
    "output_format = \"all\"\n",
    "output_dir = \".\"\n",
    "writer = get_writer(output_format, output_dir)\n",
    "\n",
    "word_options = {\n",
    "    \"highlight_words\": False,\n",
    "    \"max_line_count\": None,\n",
    "    \"max_line_width\": None\n",
    "}\n",
    "writer_args = {arg: word_options[arg] for arg in word_options}"
   ]
  },
  {
   "cell_type": "code",
   "execution_count": 10,
   "id": "ebdadd47-a655-4cd5-86bf-f98421cd91be",
   "metadata": {},
   "outputs": [],
   "source": [
    "# >> Write\n",
    "for result, audio_path in results:\n",
    "    align_language = 'zh' # whisper_timestamped_results['language']\n",
    "    result[\"language\"] = align_language\n",
    "    writer(result, audio_path, writer_args)"
   ]
  },
  {
   "cell_type": "code",
   "execution_count": null,
   "id": "9aa0c68b-8828-465a-b81f-e89c7745230a",
   "metadata": {},
   "outputs": [],
   "source": []
  }
 ],
 "metadata": {
  "kernelspec": {
   "display_name": "Python 3 (ipykernel)",
   "language": "python",
   "name": "python3"
  },
  "language_info": {
   "codemirror_mode": {
    "name": "ipython",
    "version": 3
   },
   "file_extension": ".py",
   "mimetype": "text/x-python",
   "name": "python",
   "nbconvert_exporter": "python",
   "pygments_lexer": "ipython3",
   "version": "3.9.19"
  }
 },
 "nbformat": 4,
 "nbformat_minor": 5
}
